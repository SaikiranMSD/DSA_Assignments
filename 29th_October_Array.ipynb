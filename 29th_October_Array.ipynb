{
 "cells": [
  {
   "cell_type": "code",
   "execution_count": 4,
   "id": "e1707ca9-a035-4f6f-894b-aac4d0c81d07",
   "metadata": {},
   "outputs": [
    {
     "name": "stdout",
     "output_type": "stream",
     "text": [
      "False\n",
      "False\n"
     ]
    }
   ],
   "source": [
    "'''\n",
    "1. Given an array, check if it contains any duplicates or not.\n",
    "arr = [1, 2, 4, 2, 5, 9]\n",
    "Output = True\n",
    "'''\n",
    "\n",
    "arr=[1,2,3,8,5,9]\n",
    "\n",
    "\n",
    "#Without built in methods\n",
    "#Time Complexity is O(n^2)\n",
    "#Space Complexity is O(1)\n",
    "def duplicateElementFinder(arr):\n",
    "    for i in range(len(arr)):\n",
    "        tar=arr[i]\n",
    "        for j in range(i+1,len(arr)):\n",
    "             if arr[j]==tar:\n",
    "                return True\n",
    "    else:\n",
    "        return False\n",
    "    \n",
    "\n",
    "#With built in methods\n",
    "#Time Complexity is O(n)\n",
    "#Space Complexity is O(1)\n",
    "def duplicateFinder(arr):\n",
    "    for i in arr:\n",
    "        if arr.count(i)>1:\n",
    "            return True\n",
    "    else:\n",
    "        return False\n",
    "\n",
    "    \n",
    "    \n",
    "res1=duplicateElementFinder(arr)\n",
    "print(res1)\n",
    "\n",
    "res2=duplicateFinder(arr)\n",
    "print(res2)"
   ]
  },
  {
   "cell_type": "code",
   "execution_count": 5,
   "id": "168e8851-33cb-4b7b-9a4b-be8cfd8fb08d",
   "metadata": {},
   "outputs": [
    {
     "name": "stdout",
     "output_type": "stream",
     "text": [
      "[5, 6, 7, 1, 2, 3, 4]\n"
     ]
    }
   ],
   "source": [
    "'''Given an array and an integer k, rotate the array to the right by k steps.\n",
    "arr = [1, 2, 3, 4, 5, 6, 7] k = 3\n",
    "Output = [5, 6, 7, 1, 2, 3, 4]'''\n",
    "\n",
    "arr = [1, 2, 3, 4, 5, 6, 7]\n",
    "k = 3\n",
    "#I have designed this function in such a way that it will loop till the given index.Once it reaches it will return the arr.\n",
    "#Every time Iam pop out the first index value and appending to the same array at the last in order to maintain constant space complexity\n",
    "\n",
    "#Time Complexity is O(n)  n is step index size(k)\n",
    "#Space Complexity is O(1)\n",
    "def rotateArray(arr,k):\n",
    "    count=0\n",
    "    index=0\n",
    "    while(count!=(k+1)):\n",
    "        val=arr.pop(index)\n",
    "        arr.append(val)\n",
    "        count+=1    \n",
    "    return arr\n",
    "\n",
    "res=rotateArray(arr,k)\n",
    "print(res)"
   ]
  },
  {
   "cell_type": "code",
   "execution_count": 6,
   "id": "735331bd-6eec-437b-bea0-3b9ab944b40d",
   "metadata": {},
   "outputs": [
    {
     "data": {
      "text/plain": [
       "[12, 9, 7, 5, 4, 2]"
      ]
     },
     "execution_count": 6,
     "metadata": {},
     "output_type": "execute_result"
    }
   ],
   "source": [
    "'''\n",
    "Reverse the given array in-place, means without using any extra data structure.\n",
    "arr = [2, 4, 5, 7, 9, 12]\n",
    "Output = [12, 9, 7, 5, 4, 2]\n",
    "'''\n",
    "\n",
    "arr = [2, 4, 5, 7, 9, 12]\n",
    "\n",
    "#Iam reversing this  array by using slicing technique\n",
    "\n",
    "#TimeComplexity is O(n)   n is the slicing size\n",
    "#SpaceComplexity is O(1)\n",
    "def reverseArray(arr):\n",
    "    return arr[::-1]\n",
    "\n",
    "res=reverseArray(arr)\n",
    "res"
   ]
  },
  {
   "cell_type": "code",
   "execution_count": 7,
   "id": "fa689067-f26a-4333-819f-340cf5a6e5dd",
   "metadata": {},
   "outputs": [
    {
     "name": "stdout",
     "output_type": "stream",
     "text": [
      "20\n"
     ]
    }
   ],
   "source": [
    "'''\n",
    "Given an array of integers, find the maximum element in an array\n",
    "arr = [10, 5, 20, 8, 15]\n",
    "Output = 20\n",
    "'''\n",
    "\n",
    "arr = [10, 5, 20, 8, 15]\n",
    "\n",
    "#TimeComplexity is O(n) \n",
    "#SpaceComplexity is O(1)\n",
    "def maximumElement(arr):\n",
    "    max=arr[0]\n",
    "    for i in arr:\n",
    "        if i>max:\n",
    "            max=i\n",
    "    return max\n",
    "\n",
    "res=maximumElement(arr)\n",
    "print(res)"
   ]
  },
  {
   "cell_type": "code",
   "execution_count": 9,
   "id": "99960a89-12dc-4cc4-a10a-6c1e81d2a10d",
   "metadata": {},
   "outputs": [
    {
     "data": {
      "text/plain": [
       "[1, 2, 3, 4, 5]"
      ]
     },
     "execution_count": 9,
     "metadata": {},
     "output_type": "execute_result"
    }
   ],
   "source": [
    "'''Given a sorted array, remove the duplicate element without using any extra data structure.\n",
    "arr = [1, 1, 2, 2, 2, 3, 3, 4, 4, 4, 5, 5]\n",
    "Output = [1, 2, 3, 4, 5]'''\n",
    "\n",
    "#Time Complexity is O(n^2)\n",
    "#Space Complexity is O(n)\n",
    "def duplicateRemover(arr):\n",
    "    arr1=[]\n",
    "    for i in arr:\n",
    "        for j in arr1:\n",
    "            if i==j:\n",
    "                break\n",
    "        else:\n",
    "            arr1.append(i)\n",
    "    return arr1\n",
    "\n",
    "#Time Complexity is O(n)\n",
    "#Space Complexity is O(1)\n",
    "def duplicateRemover2(arr):\n",
    "    j=0\n",
    "    for i in range(len(arr)-1):\n",
    "        if(arr[i]!=arr[i+1]):\n",
    "            arr[j]=arr[i]\n",
    "            j+=1\n",
    "    arr[j]=arr[len(arr)-1]\n",
    "    j+=1\n",
    "    \n",
    "    return arr[:j]\n",
    "\n",
    "arr = [1, 1, 2, 2, 2, 3, 3, 4, 4, 4, 5, 5]\n",
    "res=duplicateRemover2(arr)\n",
    "res\n",
    "    "
   ]
  },
  {
   "cell_type": "code",
   "execution_count": null,
   "id": "300b4666-c7dd-4c5f-b5be-1c30930c86ca",
   "metadata": {},
   "outputs": [],
   "source": [
    "\n",
    "\n"
   ]
  },
  {
   "cell_type": "code",
   "execution_count": null,
   "id": "d2f1da82-9abc-4c2c-affd-5c8d9fc32f2a",
   "metadata": {},
   "outputs": [],
   "source": []
  },
  {
   "cell_type": "code",
   "execution_count": null,
   "id": "1ebde3ff-9f13-4a1e-b4af-a5a822551b6b",
   "metadata": {},
   "outputs": [],
   "source": []
  }
 ],
 "metadata": {
  "kernelspec": {
   "display_name": "Python 3 (ipykernel)",
   "language": "python",
   "name": "python3"
  },
  "language_info": {
   "codemirror_mode": {
    "name": "ipython",
    "version": 3
   },
   "file_extension": ".py",
   "mimetype": "text/x-python",
   "name": "python",
   "nbconvert_exporter": "python",
   "pygments_lexer": "ipython3",
   "version": "3.11.0"
  }
 },
 "nbformat": 4,
 "nbformat_minor": 5
}
